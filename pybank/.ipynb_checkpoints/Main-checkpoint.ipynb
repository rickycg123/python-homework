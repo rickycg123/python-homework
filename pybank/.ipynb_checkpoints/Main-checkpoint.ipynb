{
 "cells": [
  {
   "cell_type": "code",
   "execution_count": 147,
   "metadata": {},
   "outputs": [
    {
     "name": "stdout",
     "output_type": "stream",
     "text": [
      "86\n"
     ]
    }
   ],
   "source": [
    "#The total number of months included in the dataset.\n",
    "count = 0\n",
    "total_pnl = 0\n",
    "next_day = 0\n",
    "\n",
    "with open('budget_data.csv', 'r') as file:\n",
    "    next(file)\n",
    "    my_reader = csv.reader(file)\n",
    "    mydict ={}    \n",
    "    \n",
    "    for row in my_reader:\n",
    "        month, pnl = row\n",
    "        mydict[month] = int(pnl)\n",
    "\n",
    "#print(mydict)\n",
    "for month, pnl in mydict.items():\n",
    "    count +=1\n",
    "    total_pnl += int(pnl)\n",
    "    \n",
    "print(count)\n"
   ]
  },
  {
   "cell_type": "code",
   "execution_count": 117,
   "metadata": {},
   "outputs": [
    {
     "name": "stdout",
     "output_type": "stream",
     "text": [
      "38382578\n"
     ]
    }
   ],
   "source": [
    "#The net total amount of Profit/Losses over the entire period.\n",
    "print(total_pnl)"
   ]
  },
  {
   "cell_type": "code",
   "execution_count": 188,
   "metadata": {},
   "outputs": [
    {
     "name": "stdout",
     "output_type": "stream",
     "text": [
      "-2315.1176470588234\n"
     ]
    }
   ],
   "source": [
    "#The average of the changes in Profit/Losses over the entire period.\n",
    "\n",
    "beginning_pnl = 867884\n",
    "total_change = 0\n",
    "count = 0\n",
    "\n",
    "# Initialize minimum key-value pair\n",
    "minimum_key = \"\"\n",
    "minimum_value = 0\n",
    "\n",
    "# Initialize maximum key-value pair\n",
    "maximum_key = \"\"\n",
    "maximum_value = 0\n",
    "\n",
    "for month, pnl in mydict.items():\n",
    "    count +=1\n",
    "    ending_pnl = pnl\n",
    "    change_pnl = ending_pnl - beginning_pnl\n",
    "    beginning_pnl = ending_pnl \n",
    "    total_change += change_pnl\n",
    "\n",
    "# Logic to determine min value and associated key  \n",
    "    if minimum_value == 0:\n",
    "        minimum_value = change_pnl\n",
    "        minimum_key = month\n",
    "    elif change_pnl < minimum_value:\n",
    "        minimum_value = change_pnl\n",
    "        minimum_key = month\n",
    "\n",
    "# Logic to determine max value and associated key\n",
    "    if change_pnl > maximum_value:\n",
    "        maximum_value = change_pnl\n",
    "        maximum_key = month\n",
    "\n",
    "print(total_change/(count-1))"
   ]
  },
  {
   "cell_type": "code",
   "execution_count": 186,
   "metadata": {},
   "outputs": [
    {
     "name": "stdout",
     "output_type": "stream",
     "text": [
      "The Greatest increase in proifts is 1926159 and happened on Feb-2012\n"
     ]
    }
   ],
   "source": [
    "#The greatest increase in profits (date and amount) over the entire period.\n",
    "\n",
    "print(f\"The greatest increase in profits is {maximum_value} and happened on {maximum_key}\")\n",
    "\n"
   ]
  },
  {
   "cell_type": "code",
   "execution_count": 187,
   "metadata": {},
   "outputs": [
    {
     "name": "stdout",
     "output_type": "stream",
     "text": [
      "The greatest increase in profits is -2196167 and happened on Sep-2013\n"
     ]
    }
   ],
   "source": [
    "#The greatest decrease in losses (date and amount) over the entire period.\n",
    "print(f\"The greatest increase in profits is {minimum_value} and happened on {minimum_key}\")\n",
    "\n"
   ]
  },
  {
   "cell_type": "code",
   "execution_count": null,
   "metadata": {},
   "outputs": [],
   "source": []
  }
 ],
 "metadata": {
  "kernelspec": {
   "display_name": "Python 3",
   "language": "python",
   "name": "python3"
  },
  "language_info": {
   "codemirror_mode": {
    "name": "ipython",
    "version": 3
   },
   "file_extension": ".py",
   "mimetype": "text/x-python",
   "name": "python",
   "nbconvert_exporter": "python",
   "pygments_lexer": "ipython3",
   "version": "3.7.6"
  }
 },
 "nbformat": 4,
 "nbformat_minor": 4
}
